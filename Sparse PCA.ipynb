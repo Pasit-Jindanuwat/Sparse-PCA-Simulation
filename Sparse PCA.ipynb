{
 "cells": [
  {
   "cell_type": "markdown",
   "id": "4b2d270a",
   "metadata": {},
   "source": [
    "# Sparse PCA Simulation"
   ]
  },
  {
   "cell_type": "markdown",
   "id": "4b1cb63a",
   "metadata": {},
   "source": [
    "Let $$S_{p\\times p}=\\alpha[1\\ \\cdots\\ 1\\ 0\\ \\cdots\\ 0]^T[1\\ \\cdots\\ 1\\ 0\\ \\cdots\\ 0] + \\beta I_p$$ and $$(Z_{n\\times p})_{i, j}\\sim\\mathcal{N}(0, 1).$$\n",
    "We define $$X_{n,p}\\equiv Z_{n,p}S_{p,p}.$$"
   ]
  },
  {
   "cell_type": "code",
   "execution_count": 201,
   "id": "8802a691",
   "metadata": {},
   "outputs": [],
   "source": [
    "import numpy as np\n",
    "import torch\n",
    "import random\n",
    "from matplotlib import pyplot as plt"
   ]
  },
  {
   "cell_type": "code",
   "execution_count": 202,
   "id": "39514e94",
   "metadata": {},
   "outputs": [],
   "source": [
    "p = 50\n",
    "n = 30\n",
    "alpha = 0.8\n",
    "beta = 0.2\n",
    "sparsity = 0.3\n",
    "sparse_vector = np.empty((p, 1))\n",
    "for i in range(p):\n",
    "    if i < p * sparsity:\n",
    "        sparse_vector[i][0] = 1\n",
    "    else:\n",
    "        sparse_vector[i][0] = 0\n",
    "S = alpha * sparse_vector @ sparse_vector.T + beta * np.identity(p)\n",
    "\n",
    "Z = np.empty((n, p))\n",
    "for i in range(n):\n",
    "    for j in range(p):\n",
    "        Z[i][j] = np.random.normal(0, 1)\n",
    "        \n",
    "X = Z @ S\n",
    "\n",
    "sparse_vector = torch.from_numpy(sparse_vector)\n",
    "S, Z, X = torch.from_numpy(S), torch.from_numpy(Z), torch.from_numpy(X)"
   ]
  },
  {
   "cell_type": "code",
   "execution_count": 203,
   "id": "bca9ae8f",
   "metadata": {},
   "outputs": [
    {
     "data": {
      "text/plain": [
       "(torch.Size([50, 50]), torch.Size([30, 50]), torch.Size([30, 50]))"
      ]
     },
     "execution_count": 203,
     "metadata": {},
     "output_type": "execute_result"
    }
   ],
   "source": [
    "S.shape, Z.shape, X.shape"
   ]
  },
  {
   "cell_type": "markdown",
   "id": "7790cd56",
   "metadata": {},
   "source": [
    "## Method 1\n",
    "We want to find $(u, v, w)$ such that \n",
    "#### $$(u, v, w)=\\underset{(u, v, w)}{\\text{argmin}}\\ \\lVert X-u(v\\odot w)^T\\rVert_F^2$$\n",
    "where for any matrix $A$, \n",
    "#### $$\\lVert A\\rVert_F^2 = \\sum_{i,j}A_{i,j}^2.$$"
   ]
  },
  {
   "cell_type": "code",
   "execution_count": 204,
   "id": "abac69ad",
   "metadata": {},
   "outputs": [],
   "source": [
    "u = torch.randn(n, 1, requires_grad=True)\n",
    "v = torch.randn(p, 1, requires_grad=True)\n",
    "w = torch.randn(p, 1, requires_grad=True)"
   ]
  },
  {
   "cell_type": "code",
   "execution_count": 205,
   "id": "471d0899",
   "metadata": {},
   "outputs": [],
   "source": [
    "def objective_function_1(u, v, w):\n",
    "    A = X - u @ (v * w).T\n",
    "    return torch.sum(A * A)"
   ]
  },
  {
   "cell_type": "code",
   "execution_count": 206,
   "id": "a498f210",
   "metadata": {},
   "outputs": [
    {
     "name": "stdout",
     "output_type": "stream",
     "text": [
      "Epoch 0: loss = 5302.7955815796795\n",
      "Epoch 100: loss = 4345.751098778467\n",
      "Epoch 200: loss = 2119.1344727803335\n",
      "Epoch 300: loss = 99.79964073941285\n",
      "Epoch 400: loss = 64.44446963966078\n",
      "Epoch 500: loss = 59.0776016014549\n",
      "Epoch 600: loss = 57.16095777115828\n",
      "Epoch 700: loss = 56.28330184460241\n",
      "Epoch 800: loss = 55.81359092025324\n",
      "Epoch 900: loss = 55.536167063761646\n",
      "Epoch 1000: loss = 55.361693334388775\n",
      "Epoch 1100: loss = 55.24725805493027\n",
      "Epoch 1200: loss = 55.16989911936298\n",
      "Epoch 1300: loss = 55.116369142930935\n",
      "Epoch 1400: loss = 55.07860552936142\n",
      "Epoch 1500: loss = 55.05150919733387\n",
      "Epoch 1600: loss = 55.03177635885785\n",
      "Epoch 1700: loss = 55.017196121662074\n",
      "Epoch 1800: loss = 55.006281213639916\n",
      "Epoch 1900: loss = 54.998001769234634\n",
      "Epoch 2000: loss = 54.991643885818206\n",
      "Epoch 2100: loss = 54.986699944680886\n",
      "Epoch 2200: loss = 54.982808891311564\n",
      "Epoch 2300: loss = 54.979710999609345\n",
      "Epoch 2400: loss = 54.97721796148814\n",
      "Epoch 2500: loss = 54.975186358938075\n",
      "Epoch 2600: loss = 54.973513779412144\n",
      "Epoch 2700: loss = 54.97212131904307\n",
      "Epoch 2800: loss = 54.97095396885923\n",
      "Epoch 2900: loss = 54.96995954482993\n",
      "Epoch 3000: loss = 54.969110600142166\n",
      "Epoch 3100: loss = 54.96837605138357\n",
      "Epoch 3200: loss = 54.96773665911482\n",
      "Epoch 3300: loss = 54.9671747567221\n",
      "Epoch 3400: loss = 54.966676468748695\n",
      "Epoch 3500: loss = 54.96623515721539\n",
      "Epoch 3600: loss = 54.96583900582876\n",
      "Epoch 3700: loss = 54.965481686412886\n",
      "Epoch 3800: loss = 54.96515784824196\n",
      "Epoch 3900: loss = 54.964861451034665\n",
      "Epoch 4000: loss = 54.96459098772867\n",
      "Epoch 4100: loss = 54.96434295921273\n",
      "Epoch 4200: loss = 54.964112895836934\n",
      "Epoch 4300: loss = 54.96390008245308\n",
      "Epoch 4400: loss = 54.96370157607923\n",
      "Epoch 4500: loss = 54.963516772867735\n",
      "Epoch 4600: loss = 54.963343020613785\n",
      "Epoch 4700: loss = 54.96318159802814\n",
      "Epoch 4800: loss = 54.96302948660005\n",
      "Epoch 4900: loss = 54.96288548371178\n",
      "Epoch 5000: loss = 54.96274899746035\n",
      "Epoch 5100: loss = 54.96261976107337\n",
      "Epoch 5200: loss = 54.96249865369478\n",
      "Epoch 5300: loss = 54.96238298833657\n",
      "Epoch 5400: loss = 54.962274006365334\n",
      "Epoch 5500: loss = 54.9621686206129\n",
      "Epoch 5600: loss = 54.96206833886019\n",
      "Epoch 5700: loss = 54.96197397929138\n",
      "Epoch 5800: loss = 54.96188239920796\n",
      "Epoch 5900: loss = 54.96179569896847\n",
      "Epoch 6000: loss = 54.96171205945859\n",
      "Epoch 6100: loss = 54.961632674281276\n",
      "Epoch 6200: loss = 54.96155612133123\n",
      "Epoch 6300: loss = 54.961483789771385\n",
      "Epoch 6400: loss = 54.96141415471859\n",
      "Epoch 6500: loss = 54.96134660502288\n",
      "Epoch 6600: loss = 54.96128259068054\n",
      "Epoch 6700: loss = 54.961220259397194\n",
      "Epoch 6800: loss = 54.96115929167329\n",
      "Epoch 6900: loss = 54.96110332651702\n",
      "Epoch 7000: loss = 54.96104681144256\n",
      "Epoch 7100: loss = 54.96099303194116\n",
      "Epoch 7200: loss = 54.96094138419665\n",
      "Epoch 7300: loss = 54.96089285931393\n",
      "Epoch 7400: loss = 54.96084427893396\n",
      "Epoch 7500: loss = 54.960797959206324\n",
      "Epoch 7600: loss = 54.96075219676696\n",
      "Epoch 7700: loss = 54.96070924640447\n",
      "Epoch 7800: loss = 54.960667027835406\n",
      "Epoch 7900: loss = 54.96062710037802\n",
      "Epoch 8000: loss = 54.96058858808388\n",
      "Epoch 8100: loss = 54.96055088780203\n",
      "Epoch 8200: loss = 54.96051412479055\n",
      "Epoch 8300: loss = 54.960478289131714\n",
      "Epoch 8400: loss = 54.9604443607186\n",
      "Epoch 8500: loss = 54.96041043996105\n",
      "Epoch 8600: loss = 54.960377963596045\n",
      "Epoch 8700: loss = 54.96034714011015\n",
      "Epoch 8800: loss = 54.96031714554609\n",
      "Epoch 8900: loss = 54.96028778621516\n",
      "Epoch 9000: loss = 54.96025913718202\n",
      "Epoch 9100: loss = 54.96023297134346\n",
      "Epoch 9200: loss = 54.96020506742843\n",
      "Epoch 9300: loss = 54.96017878583112\n",
      "Epoch 9400: loss = 54.96015427218431\n",
      "Epoch 9500: loss = 54.96012987096971\n",
      "Epoch 9600: loss = 54.96010567729989\n",
      "Epoch 9700: loss = 54.96008178394317\n",
      "Epoch 9800: loss = 54.96005996905352\n",
      "Epoch 9900: loss = 54.960038782027\n",
      "Epoch 10000: loss = 54.960017060027624\n"
     ]
    }
   ],
   "source": [
    "epochs = 10000\n",
    "step_size = 1e-4\n",
    "sine_errors = []\n",
    "l1 = []\n",
    "iterations = [*range(epochs + 1)]\n",
    "recovered = v.clone().detach() * w.clone().detach()\n",
    "cosine_error = torch.sum(recovered * sparse_vector) / (torch.norm(recovered) * torch.norm(sparse_vector))\n",
    "sine_error = (1 - cosine_error ** 2) ** 0.5\n",
    "sine_errors.append(sine_error)\n",
    "l1.append(float(torch.linalg.norm(recovered, ord=1)))\n",
    "for i in range(epochs):\n",
    "    objective = objective_function_1(u, v, w)\n",
    "    if i % 100 == 0:\n",
    "        print('Epoch ' + str(i) + \": loss = \" + str(float(objective)))\n",
    "    objective.backward()\n",
    "    with torch.no_grad():\n",
    "        u -= u.grad * step_size\n",
    "        v -= v.grad * step_size\n",
    "        w -= w.grad * step_size\n",
    "        u.grad.zero_()\n",
    "        v.grad.zero_()\n",
    "        w.grad.zero_()\n",
    "    recovered = v.clone().detach() * w.clone().detach()\n",
    "    cosine_error = torch.sum(recovered * sparse_vector) / (torch.norm(recovered) * torch.norm(sparse_vector))\n",
    "    sine_error = (1 - cosine_error ** 2) ** 0.5\n",
    "    sine_errors.append(sine_error)\n",
    "    l1.append(float(torch.linalg.norm(recovered, ord=1)))\n",
    "    v.grad.zero_()\n",
    "    w.grad.zero_()\n",
    "print('Epoch ' + str(epochs) + \": loss = \" + str(float(objective_function_1(u, v, w))))"
   ]
  },
  {
   "cell_type": "code",
   "execution_count": null,
   "id": "6e47cec2",
   "metadata": {},
   "outputs": [],
   "source": [
    "print(v * w)"
   ]
  },
  {
   "cell_type": "code",
   "execution_count": null,
   "id": "a3cef7e8",
   "metadata": {},
   "outputs": [],
   "source": [
    "plt.plot(iterations, sine_errors, label=\"sine_error\")\n",
    "plt.plot(iterations, l1, label=\"l1 norm\")\n",
    "plt.show()"
   ]
  },
  {
   "cell_type": "code",
   "execution_count": null,
   "id": "74b5e3e7",
   "metadata": {},
   "outputs": [],
   "source": [
    "plt.plot(iterations, sine_errors)\n",
    "plt.show()"
   ]
  },
  {
   "cell_type": "markdown",
   "id": "3de0db53",
   "metadata": {},
   "source": [
    "## Method 2\n",
    "We want to find $(u, v, w)$ such that \n",
    "#### $$(u, v, w)=\\underset{(u, v, w)}{\\text{argmin}}\\ \\lVert X-Xu(v\\odot w)^T\\rVert_F^2.$$"
   ]
  },
  {
   "cell_type": "code",
   "execution_count": null,
   "id": "d499d5b4",
   "metadata": {},
   "outputs": [],
   "source": [
    "u = torch.randn(p, 1, requires_grad=True)\n",
    "v = torch.randn(p, 1, requires_grad=True)\n",
    "w = torch.randn(p, 1, requires_grad=True)"
   ]
  },
  {
   "cell_type": "code",
   "execution_count": null,
   "id": "c67ed225",
   "metadata": {},
   "outputs": [],
   "source": [
    "def objective_function_2(u, v, w):\n",
    "    A = X - (X.double() @ u.double()).double() @ (v * w).T.double()\n",
    "    return torch.sum(A * A)"
   ]
  },
  {
   "cell_type": "code",
   "execution_count": null,
   "id": "d2ddb240",
   "metadata": {},
   "outputs": [],
   "source": [
    "epochs = 100000\n",
    "step_size = 5e-7\n",
    "sine_errors = []\n",
    "l1 = []\n",
    "iterations = [*range(epochs + 1)]\n",
    "recovered = v.clone().detach() * w.clone().detach()\n",
    "cosine_error = torch.sum(recovered * sparse_vector) / (torch.norm(recovered) * torch.norm(sparse_vector))\n",
    "sine_error = (1 - cosine_error ** 2) ** 0.5\n",
    "sine_errors.append(sine_error)\n",
    "l1.append(float(torch.linalg.norm(recovered, ord=1)))\n",
    "for i in range(epochs):\n",
    "    objective = objective_function_2(u, v, w)\n",
    "    if i % 1000 == 0:\n",
    "        print('Epoch ' + str(i) + \": loss = \" + str(float(objective)))\n",
    "    objective.backward()\n",
    "    with torch.no_grad():\n",
    "        u -= u.grad * step_size\n",
    "        v -= v.grad * step_size\n",
    "        w -= w.grad * step_size\n",
    "        u.grad.zero_()\n",
    "        v.grad.zero_()\n",
    "        w.grad.zero_()\n",
    "    recovered = v.clone().detach() * w.clone().detach()\n",
    "    cosine_error = torch.sum(recovered * sparse_vector) / (torch.norm(recovered) * torch.norm(sparse_vector))\n",
    "    sine_error = (1 - cosine_error ** 2) ** 0.5\n",
    "    sine_errors.append(sine_error)\n",
    "    l1.append(float(torch.linalg.norm(recovered, ord=1)))\n",
    "print('Epoch ' + str(epochs) + \": loss = \" + str(float(objective_function_2(u, v, w))))"
   ]
  },
  {
   "cell_type": "code",
   "execution_count": null,
   "id": "fc7243c5",
   "metadata": {},
   "outputs": [],
   "source": [
    "print(v * w)"
   ]
  },
  {
   "cell_type": "code",
   "execution_count": null,
   "id": "80467983",
   "metadata": {},
   "outputs": [],
   "source": [
    "plt.plot(iterations, sine_errors, label=\"sine_errors\")\n",
    "plt.plot(iterations, l1, label=\"l1\")\n",
    "plt.show()"
   ]
  },
  {
   "cell_type": "code",
   "execution_count": null,
   "id": "5129a755",
   "metadata": {},
   "outputs": [],
   "source": [
    "plt.plot(iterations, sine_errors)\n",
    "plt.show()"
   ]
  },
  {
   "cell_type": "markdown",
   "id": "39b4828f",
   "metadata": {},
   "source": [
    "## Method 3\n",
    "We want to find $(u, v, w)$ such that \n",
    "#### $$(u, v, w)=\\underset{(u, v, w)}{\\text{argmin}}\\ \\lVert X-u(v\\odot v - w\\odot w)^T\\rVert_F^2.$$"
   ]
  },
  {
   "cell_type": "code",
   "execution_count": null,
   "id": "cdc707f9",
   "metadata": {},
   "outputs": [],
   "source": [
    "u = torch.randn(n, 1, requires_grad=True)\n",
    "v = torch.randn(p, 1, requires_grad=True)\n",
    "w = torch.randn(p, 1, requires_grad=True)"
   ]
  },
  {
   "cell_type": "code",
   "execution_count": null,
   "id": "927688d4",
   "metadata": {},
   "outputs": [],
   "source": [
    "def objective_function_3(u, v, w):\n",
    "    A = X - u @ (v * v - w * w).T\n",
    "    return torch.sum(A * A)"
   ]
  },
  {
   "cell_type": "code",
   "execution_count": null,
   "id": "9874a1ba",
   "metadata": {},
   "outputs": [],
   "source": [
    "epochs = 10000\n",
    "step_size = 1e-4\n",
    "sine_errors = []\n",
    "l1 = []\n",
    "iterations = [*range(epochs + 1)]\n",
    "recovered = v.clone().detach() * v.clone().detach() - w.clone().detach() * w.clone().detach()\n",
    "cosine_error = torch.sum(recovered * sparse_vector) / (torch.norm(recovered) * torch.norm(sparse_vector))\n",
    "sine_error = (1 - cosine_error ** 2) ** 0.5\n",
    "sine_errors.append(sine_error)\n",
    "l1.append(float(torch.linalg.norm(recovered, ord=1)))\n",
    "for i in range(epochs):\n",
    "    objective = objective_function_3(u, v, w)\n",
    "    if i % 100 == 0:\n",
    "        print('Epoch ' + str(i) + \": loss = \" + str(float(objective)))\n",
    "    objective.backward()\n",
    "    with torch.no_grad():\n",
    "        u -= u.grad * step_size\n",
    "        v -= v.grad * step_size\n",
    "        w -= w.grad * step_size\n",
    "        u.grad.zero_()\n",
    "        v.grad.zero_()\n",
    "        w.grad.zero_()\n",
    "    recovered = v.clone().detach() * v.clone().detach() - w.clone().detach() * w.clone().detach()\n",
    "    cosine_error = torch.sum(recovered * sparse_vector) / (torch.norm(recovered) * torch.norm(sparse_vector))\n",
    "    sine_error = (1 - cosine_error ** 2) ** 0.5\n",
    "    sine_errors.append(sine_error)\n",
    "    l1.append(float(torch.linalg.norm(recovered, ord=1)))\n",
    "print('Epoch ' + str(epochs) + \": loss = \" + str(float(objective_function_3(u, v, w))))"
   ]
  },
  {
   "cell_type": "code",
   "execution_count": null,
   "id": "f8338990",
   "metadata": {},
   "outputs": [],
   "source": [
    "print(v * v - w * w)"
   ]
  },
  {
   "cell_type": "code",
   "execution_count": null,
   "id": "3f4d7152",
   "metadata": {},
   "outputs": [],
   "source": [
    "plt.plot(iterations, sine_errors, label=\"sine_errors\")\n",
    "plt.plot(iterations, l1, label=\"l1\")\n",
    "plt.show()"
   ]
  },
  {
   "cell_type": "code",
   "execution_count": null,
   "id": "0b091054",
   "metadata": {},
   "outputs": [],
   "source": [
    "plt.plot(iterations, sine_errors)"
   ]
  },
  {
   "cell_type": "markdown",
   "id": "255360da",
   "metadata": {},
   "source": [
    "## Method 4\n",
    "We want to find $(u, v, w)$ such that \n",
    "#### $$(u, v, w)=\\underset{(u, v, w)}{\\text{argmin}}\\ \\lVert X-Xu(v\\odot v - w\\odot w)^T\\rVert_F^2.$$"
   ]
  },
  {
   "cell_type": "code",
   "execution_count": null,
   "id": "1c0e46c0",
   "metadata": {},
   "outputs": [],
   "source": [
    "u = torch.randn(p, 1, requires_grad=True)\n",
    "v = torch.randn(p, 1, requires_grad=True)\n",
    "w = torch.randn(p, 1, requires_grad=True)"
   ]
  },
  {
   "cell_type": "code",
   "execution_count": null,
   "id": "d9618a65",
   "metadata": {},
   "outputs": [],
   "source": [
    "def objective_function_4(u, v, w):\n",
    "    A = X - X.double() @ u.double() @ (v * v - w * w).T.double()\n",
    "    return torch.sum(A * A)"
   ]
  },
  {
   "cell_type": "code",
   "execution_count": null,
   "id": "e879801e",
   "metadata": {},
   "outputs": [],
   "source": [
    "epochs = 100000\n",
    "step_size = 5e-7\n",
    "sine_errors = []\n",
    "l1 = []\n",
    "iterations = [*range(epochs + 1)]\n",
    "recovered = v.clone().detach() * v.clone().detach() - w.clone().detach() * w.clone().detach()\n",
    "cosine_error = torch.sum(recovered * sparse_vector) / (torch.norm(recovered) * torch.norm(sparse_vector))\n",
    "sine_error = (1 - cosine_error ** 2) ** 0.5\n",
    "sine_errors.append(sine_error)\n",
    "l1.append(float(torch.linalg.norm(recovered, ord=1)))\n",
    "for i in range(epochs):\n",
    "    objective = objective_function_4(u, v, w)\n",
    "    if i % 1000 == 0:\n",
    "        print('Epoch ' + str(i) + \": loss = \" + str(float(objective)))\n",
    "    objective.backward()\n",
    "    with torch.no_grad():\n",
    "        u -= u.grad * step_size\n",
    "        v -= v.grad * step_size\n",
    "        w -= w.grad * step_size\n",
    "        u.grad.zero_()\n",
    "        v.grad.zero_()\n",
    "        w.grad.zero_()\n",
    "    recovered = v.clone().detach() * v.clone().detach() - w.clone().detach() * w.clone().detach()\n",
    "    cosine_error = torch.sum(recovered * sparse_vector) / (torch.norm(recovered) * torch.norm(sparse_vector))\n",
    "    sine_error = (1 - cosine_error ** 2) ** 0.5\n",
    "    sine_errors.append(sine_error)\n",
    "    l1.append(float(torch.linalg.norm(recovered, ord=1)))\n",
    "print('Epoch ' + str(epochs) + \": loss = \" + str(float(objective_function_4(u, v, w))))"
   ]
  },
  {
   "cell_type": "code",
   "execution_count": null,
   "id": "ff52d606",
   "metadata": {},
   "outputs": [],
   "source": [
    "print(v * v - w * w)"
   ]
  },
  {
   "cell_type": "code",
   "execution_count": null,
   "id": "b9d108eb",
   "metadata": {},
   "outputs": [],
   "source": [
    "plt.plot(iterations, sine_errors, label=\"sine_errors\")\n",
    "plt.plot(iterations, l1, label=\"l1\")\n",
    "plt.show()"
   ]
  },
  {
   "cell_type": "code",
   "execution_count": null,
   "id": "4af1a436",
   "metadata": {},
   "outputs": [],
   "source": [
    "plt.plot(iterations, sine_errors)\n",
    "plt.show()"
   ]
  },
  {
   "cell_type": "markdown",
   "id": "202afc7b",
   "metadata": {},
   "source": [
    "### Hadamard Parametrization\n",
    "We want to maximize \n",
    "#### $$(u\\odot v)^TS(u\\odot v)$$\n",
    "where\n",
    "#### $$S=\\frac{1}{n}X^TX$$\n",
    "under the constraint\n",
    "#### $$\\lVert u\\odot v\\rVert = 1$$"
   ]
  },
  {
   "cell_type": "code",
   "execution_count": 218,
   "id": "ce805a1c",
   "metadata": {},
   "outputs": [],
   "source": [
    "u = torch.randn(p, 1)\n",
    "v = torch.randn(p, 1)\n",
    "norm = torch.norm(u * v)\n",
    "u = u / (norm ** 0.5)\n",
    "v = v / (norm ** 0.5)"
   ]
  },
  {
   "cell_type": "code",
   "execution_count": 219,
   "id": "ed9f3ff5",
   "metadata": {},
   "outputs": [
    {
     "name": "stdout",
     "output_type": "stream",
     "text": [
      "Epoch 0: objective = 0.21252192271924175\n",
      "Epoch 1000: objective = 0.21415363473423596\n",
      "Epoch 2000: objective = 0.21598963375910507\n",
      "Epoch 3000: objective = 0.2180596089929115\n",
      "Epoch 4000: objective = 0.22039007150714\n",
      "Epoch 5000: objective = 0.22300943940238266\n",
      "Epoch 6000: objective = 0.22596068717549275\n",
      "Epoch 7000: objective = 0.22928409102906133\n",
      "Epoch 8000: objective = 0.23302572211902828\n",
      "Epoch 9000: objective = 0.2372327399635619\n",
      "Epoch 10000: objective = 0.24195266632374707\n",
      "Epoch 11000: objective = 0.2472527600528679\n",
      "Epoch 12000: objective = 0.25320687807877207\n",
      "Epoch 13000: objective = 0.2598909998167695\n",
      "Epoch 14000: objective = 0.26737318219238493\n",
      "Epoch 15000: objective = 0.27575577369355264\n",
      "Epoch 16000: objective = 0.28515352598289284\n",
      "Epoch 17000: objective = 0.2956746155243446\n",
      "Epoch 18000: objective = 0.3074283018461026\n",
      "Epoch 19000: objective = 0.32054743092435223\n",
      "Epoch 20000: objective = 0.33519488746969434\n",
      "Epoch 21000: objective = 0.35153902288323297\n",
      "Epoch 22000: objective = 0.36975757171472295\n",
      "Epoch 23000: objective = 0.3900406516742714\n",
      "Epoch 24000: objective = 0.41258721178875485\n",
      "Epoch 25000: objective = 0.4376278327593952\n",
      "Epoch 26000: objective = 0.4654099956835577\n",
      "Epoch 27000: objective = 0.4961457071162526\n",
      "Epoch 28000: objective = 0.5301296643987994\n",
      "Epoch 29000: objective = 0.5675967516562944\n",
      "Epoch 30000: objective = 0.6089260710558706\n",
      "Epoch 31000: objective = 0.6542990634788779\n",
      "Epoch 32000: objective = 0.7040626874680582\n",
      "Epoch 33000: objective = 0.7584849344101783\n",
      "Epoch 34000: objective = 0.8178222022386712\n",
      "Epoch 35000: objective = 0.8822892225648397\n",
      "Epoch 36000: objective = 0.9521493998198407\n",
      "Epoch 37000: objective = 1.0275214170537301\n",
      "Epoch 38000: objective = 1.1085202344572802\n",
      "Epoch 39000: objective = 1.1951888500641166\n",
      "Epoch 40000: objective = 1.287466864996785\n",
      "Epoch 41000: objective = 1.3851779802188784\n",
      "Epoch 42000: objective = 1.4880726229965613\n",
      "Epoch 43000: objective = 1.59572420649486\n",
      "Epoch 44000: objective = 1.7076719714039308\n",
      "Epoch 45000: objective = 1.8231677695243926\n",
      "Epoch 46000: objective = 1.9414826278805444\n",
      "Epoch 47000: objective = 2.0617585338197317\n",
      "Epoch 48000: objective = 2.182986847208205\n",
      "Epoch 49000: objective = 2.3041180998974515\n",
      "Epoch 50000: objective = 2.424130016099975\n",
      "Epoch 51000: objective = 2.541976761540193\n",
      "Epoch 52000: objective = 2.6566258486433667\n",
      "Epoch 53000: objective = 2.7671714787867514\n",
      "Epoch 54000: objective = 2.8727995501871177\n",
      "Epoch 55000: objective = 2.9728565308732433\n",
      "Epoch 56000: objective = 3.066792567503276\n",
      "Epoch 57000: objective = 3.1542458231224852\n",
      "Epoch 58000: objective = 3.235025968975546\n",
      "Epoch 59000: objective = 3.309048071990352\n",
      "Epoch 60000: objective = 3.376358239378479\n",
      "Epoch 61000: objective = 3.437159319724282\n",
      "Epoch 62000: objective = 3.4916625600617985\n",
      "Epoch 63000: objective = 3.540229127201222\n",
      "Epoch 64000: objective = 3.5832127554917235\n",
      "Epoch 65000: objective = 3.6210220361179077\n",
      "Epoch 66000: objective = 3.654082146614848\n",
      "Epoch 67000: objective = 3.6827778099930124\n",
      "Epoch 68000: objective = 3.707547469537729\n",
      "Epoch 69000: objective = 3.72876238678015\n",
      "Epoch 70000: objective = 3.7468087617402697\n",
      "Epoch 71000: objective = 3.7620122419471964\n",
      "Epoch 72000: objective = 3.774705140291991\n",
      "Epoch 73000: objective = 3.785145436875518\n",
      "Epoch 74000: objective = 3.793639649575221\n",
      "Epoch 75000: objective = 3.800407383563551\n",
      "Epoch 76000: objective = 3.805633520436451\n",
      "Epoch 77000: objective = 3.8095460741901994\n",
      "Epoch 78000: objective = 3.8123227100977095\n",
      "Epoch 79000: objective = 3.8140948412854643\n",
      "Epoch 80000: objective = 3.8149097968399954\n",
      "Epoch 81000: objective = 3.8149917113229543\n",
      "Epoch 82000: objective = 3.814385578656365\n",
      "Epoch 83000: objective = 3.813216966616571\n",
      "Epoch 84000: objective = 3.811563223396622\n",
      "Epoch 85000: objective = 3.8094339305809073\n",
      "Epoch 86000: objective = 3.806992069013756\n",
      "Epoch 87000: objective = 3.804263682899632\n",
      "Epoch 88000: objective = 3.80123662565897\n",
      "Epoch 89000: objective = 3.7979798335866253\n",
      "Epoch 90000: objective = 3.794456950367717\n",
      "Epoch 91000: objective = 3.790722986766744\n",
      "Epoch 92000: objective = 3.7868208837147286\n",
      "Epoch 93000: objective = 3.7828311145889026\n",
      "Epoch 94000: objective = 3.778740711918719\n",
      "Epoch 95000: objective = 3.7745423694135165\n",
      "Epoch 96000: objective = 3.770245766844214\n",
      "Epoch 97000: objective = 3.7658977678929566\n",
      "Epoch 98000: objective = 3.7615033888950813\n",
      "Epoch 99000: objective = 3.7570473568467793\n",
      "Epoch 100000: objective = 3.7525207575371646\n",
      "Epoch 101000: objective = 3.7479937753591708\n",
      "Epoch 102000: objective = 3.7434652617875206\n",
      "Epoch 103000: objective = 3.7388789244968446\n",
      "Epoch 104000: objective = 3.7343179237511643\n",
      "Epoch 105000: objective = 3.7297116936450503\n",
      "Epoch 106000: objective = 3.725060904881225\n",
      "Epoch 107000: objective = 3.720375925158301\n",
      "Epoch 108000: objective = 3.715695963044527\n",
      "Epoch 109000: objective = 3.7110364610103126\n",
      "Epoch 110000: objective = 3.7063816598145816\n",
      "Epoch 111000: objective = 3.7017277276907725\n",
      "Epoch 112000: objective = 3.697064162344517\n",
      "Epoch 113000: objective = 3.692390132166741\n",
      "Epoch 114000: objective = 3.687741023091573\n",
      "Epoch 115000: objective = 3.683067525904114\n",
      "Epoch 116000: objective = 3.678417077949247\n",
      "Epoch 117000: objective = 3.6737394330479294\n",
      "Epoch 118000: objective = 3.6690856728162147\n",
      "Epoch 119000: objective = 3.6644324603406506\n",
      "Epoch 120000: objective = 3.659774570048624\n",
      "Epoch 121000: objective = 3.655093548574501\n",
      "Epoch 122000: objective = 3.650483139591505\n",
      "Epoch 123000: objective = 3.6458784400743243\n",
      "Epoch 124000: objective = 3.6412688591076314\n",
      "Epoch 125000: objective = 3.6366287814985143\n",
      "Epoch 126000: objective = 3.6319875435940743\n",
      "Epoch 127000: objective = 3.6273889693968284\n",
      "Epoch 128000: objective = 3.622801781732926\n",
      "Epoch 129000: objective = 3.618242611969844\n",
      "Epoch 130000: objective = 3.6136828978581255\n",
      "Epoch 131000: objective = 3.609102442969336\n",
      "Epoch 132000: objective = 3.6045624432609094\n",
      "Epoch 133000: objective = 3.5999883128304226\n",
      "Epoch 134000: objective = 3.5953725569327997\n",
      "Epoch 135000: objective = 3.5907817710270415\n",
      "Epoch 136000: objective = 3.5863137329980126\n",
      "Epoch 137000: objective = 3.5818346828469196\n",
      "Epoch 138000: objective = 3.5773209976537643\n",
      "Epoch 139000: objective = 3.5727795376226705\n",
      "Epoch 140000: objective = 3.568269736709278\n",
      "Epoch 141000: objective = 3.5637748854564615\n",
      "Epoch 142000: objective = 3.5592373180414123\n",
      "Epoch 143000: objective = 3.5547443391574727\n",
      "Epoch 144000: objective = 3.550258966416228\n",
      "Epoch 145000: objective = 3.5458303089747156\n",
      "Epoch 146000: objective = 3.5413707094294535\n",
      "Epoch 147000: objective = 3.5368827415811666\n",
      "Epoch 148000: objective = 3.5323703345493223\n",
      "Epoch 149000: objective = 3.527915448619338\n",
      "Epoch 150000: objective = 3.5235147145174284\n",
      "Epoch 151000: objective = 3.5191297482112396\n",
      "Epoch 152000: objective = 3.5147212651329247\n",
      "Epoch 153000: objective = 3.5103171781223876\n",
      "Epoch 154000: objective = 3.505983130440476\n",
      "Epoch 155000: objective = 3.5016048347363333\n",
      "Epoch 156000: objective = 3.4971991198154613\n",
      "Epoch 157000: objective = 3.492765028023879\n",
      "Epoch 158000: objective = 3.488455485241609\n",
      "Epoch 159000: objective = 3.4841315815963276\n",
      "Epoch 160000: objective = 3.4797702177164354\n",
      "Epoch 161000: objective = 3.4753857029003403\n",
      "Epoch 162000: objective = 3.4710280311178576\n",
      "Epoch 163000: objective = 3.4666462165620824\n",
      "Epoch 164000: objective = 3.462277117876295\n",
      "Epoch 165000: objective = 3.4579175361495933\n",
      "Epoch 166000: objective = 3.4536644719464733\n",
      "Epoch 167000: objective = 3.4493840307533414\n",
      "Epoch 168000: objective = 3.445060215100365\n",
      "Epoch 169000: objective = 3.440741116685442\n",
      "Epoch 170000: objective = 3.4364777741639814\n",
      "Epoch 171000: objective = 3.4321997020562867\n",
      "Epoch 172000: objective = 3.427880927611196\n",
      "Epoch 173000: objective = 3.423544878420953\n",
      "Epoch 174000: objective = 3.419358873206371\n",
      "Epoch 175000: objective = 3.4151615010525345\n",
      "Epoch 176000: objective = 3.4109174170469907\n",
      "Epoch 177000: objective = 3.4066775791527624\n",
      "Epoch 178000: objective = 3.402421530096449\n",
      "Epoch 179000: objective = 3.398196729800207\n",
      "Epoch 180000: objective = 3.393959296026765\n",
      "Epoch 181000: objective = 3.389693045162937\n",
      "Epoch 182000: objective = 3.3854809274565074\n",
      "Epoch 183000: objective = 3.381392930062488\n",
      "Epoch 184000: objective = 3.3772369092402847\n",
      "Epoch 185000: objective = 3.3730734944944154\n"
     ]
    },
    {
     "name": "stdout",
     "output_type": "stream",
     "text": [
      "Epoch 186000: objective = 3.3688609747544316\n",
      "Epoch 187000: objective = 3.364705276119045\n",
      "Epoch 188000: objective = 3.360534770006076\n",
      "Epoch 189000: objective = 3.356336355469059\n",
      "Epoch 190000: objective = 3.352204213283349\n",
      "Epoch 191000: objective = 3.3481255705332824\n",
      "Epoch 192000: objective = 3.3440194278026594\n",
      "Epoch 193000: objective = 3.3398976566728\n",
      "Epoch 194000: objective = 3.3357925442133367\n",
      "Epoch 195000: objective = 3.3316802985649665\n",
      "Epoch 196000: objective = 3.327534814222428\n",
      "Epoch 197000: objective = 3.3233913512968978\n",
      "Epoch 198000: objective = 3.319248717061306\n",
      "Epoch 199000: objective = 3.3151910651880954\n",
      "Epoch 200000: objective = 3.3111555072380363\n"
     ]
    }
   ],
   "source": [
    "epochs = 200000\n",
    "step_size = 1e-5\n",
    "sine_errors = []\n",
    "l1 = []\n",
    "iterations = [*range(epochs + 1)]\n",
    "recovered = u.clone().detach() * v.clone().detach()\n",
    "cosine_error = torch.sum(recovered * sparse_vector) / (torch.norm(recovered) * torch.norm(sparse_vector))\n",
    "sine_error = (1 - cosine_error ** 2) ** 0.5\n",
    "sine_errors.append(sine_error)\n",
    "l1.append(float(torch.linalg.norm(recovered, ord=1)))\n",
    "for i in range(epochs):\n",
    "    if i % 1000 == 0:\n",
    "        objective = ((u * v).T.double() @ S.double() @ (u * v).double())[0][0]\n",
    "        print('Epoch ' + str(i) + \": objective = \" + str(float(objective)))\n",
    "    du = v.double() * ((S + S.T).double() @ (u * v).double())\n",
    "    dv = u.double() * ((S + S.T).double() @ (u * v).double())\n",
    "    u += du * step_size\n",
    "    v += dv * step_size\n",
    "    norm = torch.norm(u * v)\n",
    "    u = u / (norm ** 0.5)\n",
    "    v = v / (norm ** 0.5)\n",
    "    recovered = u.clone().detach() * v.clone().detach()\n",
    "    cosine_error = torch.sum(recovered * sparse_vector) / (torch.norm(recovered) * torch.norm(sparse_vector))\n",
    "    sine_error = (1 - cosine_error ** 2) ** 0.5\n",
    "    sine_errors.append(sine_error)\n",
    "    l1.append(float(torch.linalg.norm(recovered, ord=1)))\n",
    "objective = ((u * v).T.double() @ S.double() @ (u * v).double())[0][0]\n",
    "print('Epoch ' + str(epochs) + \": objective = \" + str(float(objective)))"
   ]
  },
  {
   "cell_type": "code",
   "execution_count": 220,
   "id": "a8f43530",
   "metadata": {},
   "outputs": [
    {
     "name": "stdout",
     "output_type": "stream",
     "text": [
      "tensor([[-6.6802e-01],\n",
      "        [-1.9822e-02],\n",
      "        [-5.2299e-04],\n",
      "        [-4.1330e-01],\n",
      "        [-1.5447e-06],\n",
      "        [-2.9407e-02],\n",
      "        [-6.6917e-03],\n",
      "        [-3.6264e-03],\n",
      "        [-8.4815e-04],\n",
      "        [-6.0737e-02],\n",
      "        [-6.0221e-01],\n",
      "        [-1.1300e-04],\n",
      "        [-1.9517e-02],\n",
      "        [-2.8607e-02],\n",
      "        [-1.1861e-01],\n",
      "        [ 3.2946e-09],\n",
      "        [-6.1876e-07],\n",
      "        [-1.8428e-06],\n",
      "        [ 1.5761e-06],\n",
      "        [-1.5614e-06],\n",
      "        [ 7.8108e-07],\n",
      "        [ 1.5161e-06],\n",
      "        [-1.6455e-06],\n",
      "        [-2.3076e-06],\n",
      "        [ 1.1742e-06],\n",
      "        [-6.2080e-07],\n",
      "        [-1.9875e-06],\n",
      "        [-6.4834e-07],\n",
      "        [-5.1020e-06],\n",
      "        [-3.4240e-06],\n",
      "        [-4.5416e-06],\n",
      "        [-1.1492e-09],\n",
      "        [-9.8194e-07],\n",
      "        [ 3.6483e-06],\n",
      "        [-6.0050e-07],\n",
      "        [-9.0552e-07],\n",
      "        [ 1.5439e-07],\n",
      "        [ 4.4301e-07],\n",
      "        [-1.1754e-07],\n",
      "        [ 1.9568e-06],\n",
      "        [-4.5271e-07],\n",
      "        [ 1.4156e-05],\n",
      "        [-4.1478e-06],\n",
      "        [ 2.7728e-06],\n",
      "        [ 4.3123e-06],\n",
      "        [-1.2733e-06],\n",
      "        [ 1.4272e-06],\n",
      "        [ 1.4634e-06],\n",
      "        [-1.3880e-08],\n",
      "        [ 2.1221e-07]])\n"
     ]
    }
   ],
   "source": [
    "print(u * v)"
   ]
  },
  {
   "cell_type": "code",
   "execution_count": 221,
   "id": "96bc50b4",
   "metadata": {},
   "outputs": [
    {
     "data": {
      "image/png": "[encoded data removed]",
      "text/plain": [
       "<Figure size 640x480 with 1 Axes>"
      ]
     },
     "metadata": {},
     "output_type": "display_data"
    }
   ],
   "source": [
    "plt.plot(iterations, sine_errors, label=\"sine_errors\")\n",
    "plt.plot(iterations, l1, label=\"l1\")\n",
    "plt.show()"
   ]
  },
  {
   "cell_type": "code",
   "execution_count": 222,
   "id": "242395c5",
   "metadata": {},
   "outputs": [
    {
     "data": {
      "image/png": "[encoded data removed]",
      "text/plain": [
       "<Figure size 640x480 with 1 Axes>"
      ]
     },
     "metadata": {},
     "output_type": "display_data"
    }
   ],
   "source": [
    "plt.plot(iterations, sine_errors)\n",
    "plt.show()"
   ]
  },
  {
   "cell_type": "code",
   "execution_count": null,
   "id": "2b4345ba",
   "metadata": {},
   "outputs": [],
   "source": []
  }
 ],
 "metadata": {
  "kernelspec": {
   "display_name": "Python 3 (ipykernel)",
   "language": "python",
   "name": "python3"
  },
  "language_info": {
   "codemirror_mode": {
    "name": "ipython",
    "version": 3
   },
   "file_extension": ".py",
   "mimetype": "text/x-python",
   "name": "python",
   "nbconvert_exporter": "python",
   "pygments_lexer": "ipython3",
   "version": "3.10.12"
  }
 },
 "nbformat": 4,
 "nbformat_minor": 5
}
